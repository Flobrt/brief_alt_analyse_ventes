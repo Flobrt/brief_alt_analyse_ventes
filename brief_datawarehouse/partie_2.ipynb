{
 "cells": [
  {
   "cell_type": "code",
   "execution_count": 22,
   "metadata": {},
   "outputs": [],
   "source": [
    "import mysql.connector\n",
    "import pandas as pd"
   ]
  },
  {
   "cell_type": "code",
   "execution_count": 23,
   "metadata": {},
   "outputs": [],
   "source": [
    "conn = mysql.connector.connect(\n",
    "    host='127.0.0.1',  # Remplacez par l'adresse de votre serveur MariaDB\n",
    "    user='root',  # Remplacez par votre nom d'utilisateur\n",
    "    password='password',  # Remplacez par votre mot de passe\n",
    "    database='dwh_sales',  # Remplacez par votre base de données\n",
    "    port=3306  # Si vous avez un port personnalisé, remplacez-le\n",
    ")"
   ]
  },
  {
   "cell_type": "code",
   "execution_count": null,
   "metadata": {},
   "outputs": [
    {
     "name": "stderr",
     "output_type": "stream",
     "text": [
      "/tmp/ipykernel_13409/2275886698.py:20: UserWarning: pandas only supports SQLAlchemy connectable (engine/connection) or database string URI or sqlite3 DBAPI2 connection. Other DBAPI2 objects are not tested. Please consider using SQLAlchemy.\n",
      "  df = pd.read_sql_query(query, conn)\n"
     ]
    }
   ],
   "source": [
    "query = '''\n",
    "    SELECT\n",
    "        s.SupplierID,\n",
    "        s.SupplierName,\n",
    "        s.SupplierLocation,\n",
    "        s.SupplierContact,\n",
    "        \n",
    "        sh.ShippingID,\n",
    "        sh.ShippingName,\n",
    "        sh.ShippingMethod,\n",
    "\n",
    "        p.ProductID,\n",
    "        p.ProductName,\n",
    "        p.ProductCategory,\n",
    "        p.ProductSubCategory,\n",
    "        p.ProductPrice,\n",
    "\n",
    "        c.CustomerID,\n",
    "        c.CustomerName,\n",
    "        c.CustomerEmail,\n",
    "        c.CustomerAddress,\n",
    "        c.CustomerPhone,\n",
    "        c.CustomerSegment,\n",
    "\n",
    "        d.DateID,\n",
    "        d.Annee,\n",
    "        d.Mois,\n",
    "        d.Jour,\n",
    "\n",
    "        f.VenteID,\n",
    "        f.QuantitySold,\n",
    "        f.TotalAmount,\n",
    "        f.DiscountAmount,\n",
    "        f.NetAmount,\n",
    "\n",
    "        fs.StockID,\n",
    "        fs.StockReceived,\n",
    "        fs.StockSold,\n",
    "        fs.StockOnHand\n",
    "\n",
    "    FROM\n",
    "        FactVentes f\n",
    "    JOIN\n",
    "        Supplier s ON f.SupplierID = s.SupplierID\n",
    "    JOIN\n",
    "        Shipping sh ON f.ShippingID = sh.ShippingID\n",
    "    JOIN\n",
    "        Product p ON f.ProductID = p.ProductID\n",
    "    JOIN\n",
    "        Customer c ON f.CustomerID = c.CustomerID\n",
    "    JOIN\n",
    "        Date d ON f.DateID = d.DateID\n",
    "    LEFT JOIN\n",
    "        FactStock fs ON p.ProductID = fs.ProductID AND f.DateID = fs.DateID\n",
    "    ;\n",
    "'''\n",
    "\n",
    "df = pd.read_sql_query(query, conn)\n",
    "df"
   ]
  },
  {
   "cell_type": "code",
   "execution_count": null,
   "metadata": {},
   "outputs": [],
   "source": []
  }
 ],
 "metadata": {
  "kernelspec": {
   "display_name": "pyspark",
   "language": "python",
   "name": "python3"
  },
  "language_info": {
   "codemirror_mode": {
    "name": "ipython",
    "version": 3
   },
   "file_extension": ".py",
   "mimetype": "text/x-python",
   "name": "python",
   "nbconvert_exporter": "python",
   "pygments_lexer": "ipython3",
   "version": "3.8.3"
  }
 },
 "nbformat": 4,
 "nbformat_minor": 2
}
